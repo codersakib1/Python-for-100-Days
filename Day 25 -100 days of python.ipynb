{
 "cells": [
  {
   "cell_type": "code",
   "execution_count": 1,
   "metadata": {},
   "outputs": [],
   "source": [
    "#Operations on Tuples in Python"
   ]
  },
  {
   "cell_type": "code",
   "execution_count": 2,
   "metadata": {},
   "outputs": [
    {
     "name": "stdout",
     "output_type": "stream",
     "text": [
      "('Spain', 'Italy', 'FInland', 'Germany', 'Russia')\n"
     ]
    }
   ],
   "source": [
    "countries = (\"Spain\", \"Italy\", \"India\", \"England\", \"Germany\")\n",
    "temp = list(countries)\n",
    "temp.append(\"Russia\") #add item\n",
    "temp.pop(3) #remove item\n",
    "temp[2] = \"FInland\" #change\n",
    "countries = tuple(temp)\n",
    "print(countries)\n"
   ]
  },
  {
   "cell_type": "code",
   "execution_count": 3,
   "metadata": {},
   "outputs": [
    {
     "name": "stdout",
     "output_type": "stream",
     "text": [
      "('Pakistan', 'Afghanistan', 'Bangladesh', 'Shrilanka', 'Vietnam', 'Indai', 'China')\n"
     ]
    }
   ],
   "source": [
    "countries = (\"Pakistan\", \"Afghanistan\", \"Bangladesh\", \"Shrilanka\")\n",
    "countries2 = (\"Vietnam\", \"Indai\", \"China\")\n",
    "southEastAsia = countries + countries2\n",
    "print(southEastAsia)"
   ]
  },
  {
   "cell_type": "code",
   "execution_count": 5,
   "metadata": {},
   "outputs": [
    {
     "name": "stdout",
     "output_type": "stream",
     "text": [
      "Count of 3 in tuple1 is: 4\n"
     ]
    }
   ],
   "source": [
    "tuple1 = (0,1,2,3,2,3,1,3,2,3)\n",
    "res = tuple1.count(3)\n",
    "print('Count of 3 in tuple1 is:', res)"
   ]
  },
  {
   "cell_type": "code",
   "execution_count": 8,
   "metadata": {},
   "outputs": [
    {
     "name": "stdout",
     "output_type": "stream",
     "text": [
      "Count of 3 in tuple1 is: 5\n"
     ]
    }
   ],
   "source": [
    "tuple1 = (0,1,2,3,2,3,1,3,2,3)\n",
    "res = tuple1.index(3,4,8)\n",
    "print('Count of 3 in tuple1 is:', res)"
   ]
  },
  {
   "cell_type": "code",
   "execution_count": null,
   "metadata": {},
   "outputs": [],
   "source": []
  }
 ],
 "metadata": {
  "kernelspec": {
   "display_name": "Python 3",
   "language": "python",
   "name": "python3"
  },
  "language_info": {
   "codemirror_mode": {
    "name": "ipython",
    "version": 3
   },
   "file_extension": ".py",
   "mimetype": "text/x-python",
   "name": "python",
   "nbconvert_exporter": "python",
   "pygments_lexer": "ipython3",
   "version": "3.11.8"
  }
 },
 "nbformat": 4,
 "nbformat_minor": 2
}
