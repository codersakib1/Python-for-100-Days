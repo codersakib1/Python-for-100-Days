{
 "cells": [
  {
   "cell_type": "code",
   "execution_count": 1,
   "metadata": {},
   "outputs": [],
   "source": [
    "#String\n"
   ]
  },
  {
   "cell_type": "code",
   "execution_count": 9,
   "metadata": {},
   "outputs": [
    {
     "name": "stdout",
     "output_type": "stream",
     "text": [
      "Hello,Sakib\n",
      "He said,\n",
      "Hi Sakib\n",
      "hey I am good\n",
      "\"I want to eat an apple\"\n",
      "S\n",
      "a\n",
      "k\n",
      "i\n",
      "b\n",
      "H\n",
      "e\n",
      " \n",
      "s\n",
      "a\n",
      "i\n",
      "d\n",
      ",\n",
      "\n",
      "\n",
      "H\n",
      "i\n",
      " \n",
      "S\n",
      "a\n",
      "k\n",
      "i\n",
      "b\n",
      "\n",
      "\n",
      "h\n",
      "e\n",
      "y\n",
      " \n",
      "I\n",
      " \n",
      "a\n",
      "m\n",
      " \n",
      "g\n",
      "o\n",
      "o\n",
      "d\n",
      "\n",
      "\n",
      "\"\n",
      "I\n",
      " \n",
      "w\n",
      "a\n",
      "n\n",
      "t\n",
      " \n",
      "t\n",
      "o\n",
      " \n",
      "e\n",
      "a\n",
      "t\n",
      " \n",
      "a\n",
      "n\n",
      " \n",
      "a\n",
      "p\n",
      "p\n",
      "l\n",
      "e\n",
      "\"\n"
     ]
    }
   ],
   "source": [
    "name = \"Sakib\"\n",
    "friend = \"Rohan\"\n",
    "anotherFriend = 'Lovish'\n",
    "apple = '''He said,\n",
    "Hi Sakib\n",
    "hey I am good\n",
    "\"I want to eat an apple\"'''\n",
    "\n",
    "print(\"Hello,\" +name)\n",
    "\n",
    "print(apple)\n",
    "\n",
    "\n",
    "print(name[0])\n",
    "print(name[1])\n",
    "print(name[2])\n",
    "print(name[3])\n",
    "print(name[4])\n",
    "\n",
    "\n",
    "for character in apple:\n",
    "    print(character)"
   ]
  },
  {
   "cell_type": "code",
   "execution_count": null,
   "metadata": {},
   "outputs": [],
   "source": []
  },
  {
   "cell_type": "code",
   "execution_count": null,
   "metadata": {},
   "outputs": [],
   "source": []
  }
 ],
 "metadata": {
  "kernelspec": {
   "display_name": "base",
   "language": "python",
   "name": "python3"
  },
  "language_info": {
   "codemirror_mode": {
    "name": "ipython",
    "version": 3
   },
   "file_extension": ".py",
   "mimetype": "text/x-python",
   "name": "python",
   "nbconvert_exporter": "python",
   "pygments_lexer": "ipython3",
   "version": "3.11.5"
  }
 },
 "nbformat": 4,
 "nbformat_minor": 2
}
