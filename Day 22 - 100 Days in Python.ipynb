{
 "cells": [
  {
   "cell_type": "code",
   "execution_count": null,
   "metadata": {},
   "outputs": [],
   "source": [
    "#Introduction to Lists in Python"
   ]
  },
  {
   "cell_type": "code",
   "execution_count": 2,
   "metadata": {},
   "outputs": [
    {
     "name": "stdout",
     "output_type": "stream",
     "text": [
      "[3, 5, 7, 9]\n",
      "<class 'list'>\n"
     ]
    }
   ],
   "source": [
    "l = [3,5,7,9]\n",
    "print(l)\n",
    "print(type(l))"
   ]
  },
  {
   "cell_type": "code",
   "execution_count": 13,
   "metadata": {},
   "outputs": [
    {
     "name": "stdout",
     "output_type": "stream",
     "text": [
      "[3, 5, 6, 'sakib', True, 6, 7, 32, 345, 23]\n",
      "<class 'list'>\n",
      "3\n",
      "5\n",
      "6\n",
      "sakib\n",
      "True\n",
      "32\n",
      "32\n",
      "6\n",
      "6\n",
      "Yes\n",
      "Yes\n"
     ]
    }
   ],
   "source": [
    "marks = [3,5,6, \"sakib\", True, 6, 7, 32, 345, 23]\n",
    "print(marks)\n",
    "print(type(marks))\n",
    "print(marks[0])\n",
    "print(marks[1])\n",
    "print(marks[2])\n",
    "print(marks[3])\n",
    "print(marks[4])\n",
    "\n",
    "\n",
    "print(marks[-3]) #Negative index\n",
    "print(marks[len(marks)-3])#Positive index\n",
    "print(marks[5-3]) #positive index\n",
    "print(marks[2]) #positive index\n",
    "\n",
    "\n",
    "\n",
    "if 7 in marks:\n",
    "    print(\"Yes\")\n",
    "else:\n",
    "    print(\"No\")\n",
    "\n",
    "#same thing applies for strings as well!\n",
    "if \"ak\" in \"sakib\":\n",
    "    print(\"Yes\")\n"
   ]
  },
  {
   "cell_type": "code",
   "execution_count": 18,
   "metadata": {},
   "outputs": [
    {
     "name": "stdout",
     "output_type": "stream",
     "text": [
      "[3, 5, 6, 'sakib', True, 6, 7, 32, 345, 23]\n",
      "[3, 5, 6, 'sakib', True, 6, 7, 32, 345, 23]\n",
      "[5, 6, 'sakib', True, 6, 7, 32, 345]\n",
      "[5, 6, 'sakib', True, 6, 7, 32, 345]\n",
      "[5, 'sakib', 6, 32]\n"
     ]
    }
   ],
   "source": [
    "print(marks)\n",
    "print(marks[:])\n",
    "print(marks[1:9])\n",
    "print(marks[1:-1])\n",
    "print(marks[1:8:2]) #2 bar jump kore 3 dile 3 br"
   ]
  },
  {
   "cell_type": "code",
   "execution_count": 22,
   "metadata": {},
   "outputs": [
    {
     "name": "stdout",
     "output_type": "stream",
     "text": [
      "[0, 1, 2, 3, 4, 5, 6, 7, 8, 9]\n",
      "[0, 1, 4, 9, 16, 25, 36, 49, 64, 81]\n",
      "[0, 4, 16, 36, 64]\n"
     ]
    }
   ],
   "source": [
    "lst = [i for i in range(10)]\n",
    "print(lst)\n",
    "lst = [i*i for i in range(10)]\n",
    "print(lst)\n",
    "lst = [i*i for i in range(10) if i%2==0]\n",
    "print(lst)"
   ]
  }
 ],
 "metadata": {
  "kernelspec": {
   "display_name": "Python 3",
   "language": "python",
   "name": "python3"
  },
  "language_info": {
   "codemirror_mode": {
    "name": "ipython",
    "version": 3
   },
   "file_extension": ".py",
   "mimetype": "text/x-python",
   "name": "python",
   "nbconvert_exporter": "python",
   "pygments_lexer": "ipython3",
   "version": "3.11.7"
  }
 },
 "nbformat": 4,
 "nbformat_minor": 2
}
