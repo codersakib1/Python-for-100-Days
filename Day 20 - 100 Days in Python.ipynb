{
 "cells": [
  {
   "cell_type": "code",
   "execution_count": 1,
   "metadata": {},
   "outputs": [],
   "source": [
    "#Functions in Python"
   ]
  },
  {
   "cell_type": "code",
   "execution_count": 10,
   "metadata": {},
   "outputs": [
    {
     "name": "stdout",
     "output_type": "stream",
     "text": [
      "4.235294117647059\n",
      "3.7333333333333334\n"
     ]
    }
   ],
   "source": [
    "\n",
    "\n",
    "a = 9\n",
    "b = 8\n",
    "gmean1 = (a*b)/(a+b)\n",
    "print(gmean1)\n",
    "\n",
    "c = 8\n",
    "d = 7\n",
    "\n",
    "gmean2 = (c*d)/(c+d)\n",
    "print(gmean2)"
   ]
  },
  {
   "cell_type": "code",
   "execution_count": 15,
   "metadata": {},
   "outputs": [
    {
     "name": "stdout",
     "output_type": "stream",
     "text": [
      "4.235294117647059\n",
      "3.7333333333333334\n"
     ]
    }
   ],
   "source": [
    "def calculateGmean(a, b):\n",
    "    mean = (a*b)/ (a+b)\n",
    "    print(mean)\n",
    "\n",
    "a = 9\n",
    "b = 8\n",
    "calculateGmean(a, b)\n",
    "\n",
    "c = 7\n",
    "d = 8 \n",
    "calculateGmean(c, d)"
   ]
  },
  {
   "cell_type": "code",
   "execution_count": 17,
   "metadata": {},
   "outputs": [
    {
     "name": "stdout",
     "output_type": "stream",
     "text": [
      "First number is greater\n",
      "4.235294117647059\n",
      "Second number is greater or equal\n",
      "3.7333333333333334\n"
     ]
    }
   ],
   "source": [
    "def calculateGmean(a, b):\n",
    "    mean = (a*b)/ (a+b)\n",
    "    print(mean)\n",
    "\n",
    "a = 9\n",
    "b = 8\n",
    "if(a>b):\n",
    "    print(\"First number is greater\")\n",
    "else:\n",
    "    print(\"Second number is greater or equal\")\n",
    "calculateGmean(a, b)\n",
    "\n",
    "\n",
    "c = 7\n",
    "d = 8 \n",
    "if(c>d):\n",
    "    print(\"First number is greater\")\n",
    "else:\n",
    "    print(\"Second number is greater or equal\")\n",
    "calculateGmean(c, d)"
   ]
  },
  {
   "cell_type": "code",
   "execution_count": 4,
   "metadata": {},
   "outputs": [
    {
     "name": "stdout",
     "output_type": "stream",
     "text": [
      "First number is greater\n",
      "4.235294117647059\n",
      "Second number is greater or equal\n",
      "7.219512195121951\n"
     ]
    }
   ],
   "source": [
    "def calculateGmean(a, b):\n",
    "    mean = (a*b)/(a+b)\n",
    "    print(mean)\n",
    "\n",
    "\n",
    "def isGreater(a, b):\n",
    "    if(a>b):\n",
    "        print(\"First number is greater\")\n",
    "\n",
    "    else:\n",
    "        print(\"Second number is greater or equal\")\n",
    "\n",
    "\n",
    "   \n",
    "\n",
    "\n",
    "a = 9\n",
    "b = 8\n",
    "isGreater(a, b)\n",
    "calculateGmean(a, b)\n",
    "\n",
    "c = 8\n",
    "d = 74\n",
    "isGreater(c, d)\n",
    "calculateGmean(c, d)\n"
   ]
  },
  {
   "cell_type": "code",
   "execution_count": 10,
   "metadata": {},
   "outputs": [
    {
     "name": "stdout",
     "output_type": "stream",
     "text": [
      "First Number is greater\n",
      "3.9375\n",
      "Second Number is greater or equal\n",
      "11.538461538461538\n"
     ]
    }
   ],
   "source": [
    "#Practice\n",
    "\n",
    "def calculateGmean(a, b):\n",
    "    mean = (a*b)/(a+b)\n",
    "    print(mean)\n",
    "\n",
    "\n",
    "def isGreater(a, b):\n",
    "    if(a>b):\n",
    "        print(\"First Number is greater\")\n",
    "\n",
    "    else:\n",
    "        print(\"Second Number is greater or equal\")\n",
    "\n",
    "        # Indentation must be followed, Otherwise the code is not run;\n",
    "a = 9\n",
    "b = 7\n",
    "isGreater(a, b)\n",
    "calculateGmean(a, b)\n",
    "\n",
    "\n",
    "c = 15\n",
    "d = 50\n",
    "isGreater(c, d)\n",
    "calculateGmean(c, d)\n"
   ]
  },
  {
   "cell_type": "code",
   "execution_count": 11,
   "metadata": {},
   "outputs": [
    {
     "name": "stdout",
     "output_type": "stream",
     "text": [
      "First Number is greater \n",
      "3.9375\n",
      "Second Number is greater or equal\n",
      "6.0\n"
     ]
    }
   ],
   "source": [
    "def calculateGmean(a, b):\n",
    "    mean = (a*b)/(a+b)\n",
    "    print(mean)\n",
    "\n",
    "def isGreater(a, b):\n",
    "    if(a>b):\n",
    "        print(\"First Number is greater \")\n",
    "\n",
    "    else:\n",
    "        print(\"Second Number is greater or equal\")\n",
    "\n",
    "        # Indentation must be followed, Otherwise the code is not run;\n",
    "\n",
    "x = 9\n",
    "y = 7\n",
    "isGreater(x, y)\n",
    "calculateGmean(x, y)\n",
    "\n",
    "m = 10\n",
    "n = 15\n",
    "isGreater(m, n)\n",
    "calculateGmean(m, n)\n"
   ]
  }
 ],
 "metadata": {
  "kernelspec": {
   "display_name": "Python 3",
   "language": "python",
   "name": "python3"
  },
  "language_info": {
   "codemirror_mode": {
    "name": "ipython",
    "version": 3
   },
   "file_extension": ".py",
   "mimetype": "text/x-python",
   "name": "python",
   "nbconvert_exporter": "python",
   "pygments_lexer": "ipython3",
   "version": "3.11.7"
  }
 },
 "nbformat": 4,
 "nbformat_minor": 2
}
