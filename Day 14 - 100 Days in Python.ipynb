{
 "cells": [
  {
   "cell_type": "code",
   "execution_count": null,
   "metadata": {},
   "outputs": [],
   "source": [
    "#If else Condition Statements in Python"
   ]
  },
  {
   "cell_type": "code",
   "execution_count": 7,
   "metadata": {},
   "outputs": [
    {
     "name": "stdout",
     "output_type": "stream",
     "text": [
      "Your age is: 75\n",
      "You can drive\n"
     ]
    }
   ],
   "source": [
    "a = int(input(\"Enter your age: \"))\n",
    "print(\"Your age is:\", a)\n",
    "\n",
    "if (a>18):\n",
    "    print(\"You can drive\")\n",
    "else:\n",
    "    print(\"You cannot drive\")"
   ]
  },
  {
   "cell_type": "code",
   "execution_count": 10,
   "metadata": {},
   "outputs": [
    {
     "name": "stdout",
     "output_type": "stream",
     "text": [
      "Your age is: 18\n",
      "False\n",
      "True\n",
      "True\n",
      "False\n",
      "You cannot drive\n"
     ]
    }
   ],
   "source": [
    "a = int(input(\"Enter your age: \"))\n",
    "print(\"Your age is:\", a)\n",
    "\n",
    "#Conditional operators\n",
    "# >, <, >=, <=, ==, !=\n",
    "\n",
    "print(a>18)\n",
    "print(a<=18)\n",
    "print(a==18)\n",
    "print(a!=18)\n",
    "\n",
    "if (a>18):\n",
    "    print(\"You can drive\")\n",
    "else:\n",
    "    print(\"You cannot drive\")"
   ]
  },
  {
   "cell_type": "code",
   "execution_count": 12,
   "metadata": {},
   "outputs": [
    {
     "name": "stdout",
     "output_type": "stream",
     "text": [
      "Alexa, add 1 kg Apples to the cart.\n"
     ]
    }
   ],
   "source": [
    "applePrice = 10\n",
    "budget = 200\n",
    "if ( budget - applePrice>50):\n",
    "    print(\"Alexa, add 1 kg Apples to the cart.\")\n",
    "\n",
    "\n",
    "elif(budget-applePrice>70):\n",
    "    print(\"Its okay you can buy\")\n",
    "\n",
    "\n",
    "else:\n",
    "    print(\"Alexa, do not add Apples to the cart.\")"
   ]
  },
  {
   "cell_type": "code",
   "execution_count": 17,
   "metadata": {},
   "outputs": [
    {
     "name": "stdout",
     "output_type": "stream",
     "text": [
      "Number is positive\n",
      "I am Happy now!\n"
     ]
    }
   ],
   "source": [
    "num = int(input(\"Enter the value of num: \"))\n",
    "\n",
    "if (num<0):\n",
    "    print(\"Number is negative.\")\n",
    "\n",
    "elif(num==0):\n",
    "    print(\"Number is Zero.\")\n",
    "\n",
    "elif(num==999):\n",
    "    print(\"Number is Special.\")\n",
    "    \n",
    "else:\n",
    "    print(\"Number is positive\")\n",
    "\n",
    "print(\"I am Happy now!\")\n"
   ]
  },
  {
   "cell_type": "code",
   "execution_count": 1,
   "metadata": {},
   "outputs": [
    {
     "name": "stdout",
     "output_type": "stream",
     "text": [
      "Number is between 11-20\n"
     ]
    }
   ],
   "source": [
    "#Nested if statement\n",
    "num = 18\n",
    "if (num<0):\n",
    "    print(\"Number is negative.\")\n",
    "\n",
    "elif (num>0):\n",
    "    if(num <=10):\n",
    "        print(\"Number is between 1-10\")\n",
    "    elif (num > 10 and num <= 20):\n",
    "        print(\"Number is between 11-20\")\n",
    "    else:\n",
    "        print(\"Number is greater than 20\")\n",
    "\n",
    "else:\n",
    "    print(\"Number is zero\")\n"
   ]
  }
 ],
 "metadata": {
  "kernelspec": {
   "display_name": "Python 3",
   "language": "python",
   "name": "python3"
  },
  "language_info": {
   "codemirror_mode": {
    "name": "ipython",
    "version": 3
   },
   "file_extension": ".py",
   "mimetype": "text/x-python",
   "name": "python",
   "nbconvert_exporter": "python",
   "pygments_lexer": "ipython3",
   "version": "3.11.7"
  }
 },
 "nbformat": 4,
 "nbformat_minor": 2
}
