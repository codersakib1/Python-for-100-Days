{
 "cells": [
  {
   "cell_type": "code",
   "execution_count": 1,
   "metadata": {},
   "outputs": [],
   "source": [
    "#Exception Handling in Python"
   ]
  },
  {
   "cell_type": "code",
   "execution_count": 3,
   "metadata": {},
   "outputs": [
    {
     "name": "stdout",
     "output_type": "stream",
     "text": [
      "Multiplication table of :8 is: \n",
      "8X 1 = 8\n",
      "8X 2 = 16\n",
      "8X 3 = 24\n",
      "8X 4 = 32\n",
      "8X 5 = 40\n",
      "8X 6 = 48\n",
      "8X 7 = 56\n",
      "8X 8 = 64\n",
      "8X 9 = 72\n",
      "8X 10 = 80\n",
      "Some lines of code\n",
      "End of program\n"
     ]
    }
   ],
   "source": [
    "a = input(\"Enter the number: \")\n",
    "print(f\"Multiplication table of :{a} is: \")\n",
    "\n",
    "for i in range (1, 11):\n",
    "    print(f\"{int(a)}X {i} = {int(a)*i}\")\n",
    "\n",
    "\n",
    "print(\"Some lines of code\")\n",
    "print(\"End of program\")"
   ]
  },
  {
   "cell_type": "code",
   "execution_count": 7,
   "metadata": {},
   "outputs": [
    {
     "name": "stdout",
     "output_type": "stream",
     "text": [
      "Multiplication table of :9 is: \n",
      "9X 1 = 9\n",
      "9X 2 = 18\n",
      "9X 3 = 27\n",
      "9X 4 = 36\n",
      "9X 5 = 45\n",
      "9X 6 = 54\n",
      "9X 7 = 63\n",
      "9X 8 = 72\n",
      "9X 9 = 81\n",
      "9X 10 = 90\n",
      "Some lines of code\n",
      "End of program\n"
     ]
    }
   ],
   "source": [
    "a = input(\"Enter the number: \")\n",
    "print(f\"Multiplication table of :{a} is: \")\n",
    "try:\n",
    "    for i in range (1, 11):\n",
    "        print(f\"{int(a)}X {i} = {int(a)*i}\")\n",
    "except Exception as e:\n",
    "    print(\"Invalid Input /Sorry some error occurred\")\n",
    "\n",
    "\n",
    "print(\"Some lines of code\")\n",
    "print(\"End of program\")"
   ]
  },
  {
   "cell_type": "code",
   "execution_count": null,
   "metadata": {},
   "outputs": [],
   "source": []
  }
 ],
 "metadata": {
  "kernelspec": {
   "display_name": "Python 3",
   "language": "python",
   "name": "python3"
  },
  "language_info": {
   "codemirror_mode": {
    "name": "ipython",
    "version": 3
   },
   "file_extension": ".py",
   "mimetype": "text/x-python",
   "name": "python",
   "nbconvert_exporter": "python",
   "pygments_lexer": "ipython3",
   "version": "3.11.8"
  }
 },
 "nbformat": 4,
 "nbformat_minor": 2
}
