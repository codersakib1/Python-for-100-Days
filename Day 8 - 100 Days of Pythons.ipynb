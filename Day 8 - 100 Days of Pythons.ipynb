{
 "cells": [
  {
   "cell_type": "code",
   "execution_count": 1,
   "metadata": {},
   "outputs": [],
   "source": [
    "#Calculator using Python (Solution)"
   ]
  },
  {
   "cell_type": "code",
   "execution_count": 2,
   "metadata": {},
   "outputs": [],
   "source": [
    "a = 50\n",
    "b = 3\n"
   ]
  },
  {
   "cell_type": "code",
   "execution_count": 4,
   "metadata": {},
   "outputs": [
    {
     "name": "stdout",
     "output_type": "stream",
     "text": [
      "The value of 50 + 3 is 53\n",
      "The value of 50 - 3 is 47\n",
      "The value of 50 * 3 is 150\n",
      "The value of 50 / 3 is 16.666666666666668\n",
      "The value of 50 % 3 is 2\n"
     ]
    }
   ],
   "source": [
    "print(\"The value of\", a, \"+\", 3, \"is\", a+b)\n",
    "print(\"The value of\", a, \"-\", 3, \"is\", a-b)\n",
    "print(\"The value of\", a, \"*\", 3, \"is\", a*b)\n",
    "print(\"The value of\", a, \"/\", 3, \"is\", a/b)\n",
    "print(\"The value of\", a, \"%\", 3, \"is\", a%b)"
   ]
  },
  {
   "cell_type": "code",
   "execution_count": 2,
   "metadata": {},
   "outputs": [],
   "source": [
    " #****************CALCULATOR*******************"
   ]
  },
  {
   "cell_type": "code",
   "execution_count": 33,
   "metadata": {},
   "outputs": [
    {
     "name": "stdout",
     "output_type": "stream",
     "text": [
      "10\n",
      "10\n"
     ]
    }
   ],
   "source": [
    "a=int(input(\"Enter a number:\"))\n",
    "print(a)\n",
    "\n",
    "b=int(input(\"Enter second number:\"))\n",
    "print(b)\n"
   ]
  },
  {
   "cell_type": "code",
   "execution_count": 34,
   "metadata": {},
   "outputs": [
    {
     "name": "stdout",
     "output_type": "stream",
     "text": [
      "The Addition value of a and b: 20\n",
      "The Subtraction  value of a and b: 0\n",
      "The Multiply value of a and b: 100\n",
      "The Division value of a and b: 1.0\n"
     ]
    }
   ],
   "source": [
    "print(\"The Addition value of a and b:\", a+b)\n",
    "print(\"The Subtraction  value of a and b:\",  a-b)\n",
    "print(\"The Multiply value of a and b:\", a*b)\n",
    "print(\"The Division value of a and b:\", a/b)\n",
    "\n"
   ]
  }
 ],
 "metadata": {
  "kernelspec": {
   "display_name": "base",
   "language": "python",
   "name": "python3"
  },
  "language_info": {
   "codemirror_mode": {
    "name": "ipython",
    "version": 3
   },
   "file_extension": ".py",
   "mimetype": "text/x-python",
   "name": "python",
   "nbconvert_exporter": "python",
   "pygments_lexer": "ipython3",
   "version": "3.11.5"
  }
 },
 "nbformat": 4,
 "nbformat_minor": 2
}
