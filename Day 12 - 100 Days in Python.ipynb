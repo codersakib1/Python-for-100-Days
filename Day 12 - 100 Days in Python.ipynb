{
 "cells": [
  {
   "cell_type": "code",
   "execution_count": 1,
   "metadata": {},
   "outputs": [],
   "source": [
    "#String slicing and operation on strings"
   ]
  },
  {
   "cell_type": "code",
   "execution_count": 5,
   "metadata": {},
   "outputs": [
    {
     "name": "stdout",
     "output_type": "stream",
     "text": [
      "Sakib\n",
      "11\n"
     ]
    }
   ],
   "source": [
    "name = \"Sakib, Alif\"\n",
    "print(name[0:5])\n",
    "print(len(name))"
   ]
  },
  {
   "cell_type": "code",
   "execution_count": 12,
   "metadata": {},
   "outputs": [
    {
     "name": "stdout",
     "output_type": "stream",
     "text": [
      "5\n",
      "Mang\n",
      "ang\n",
      "Mango\n",
      "Ma\n",
      "ng\n"
     ]
    }
   ],
   "source": [
    "fruit = \"Mango\"\n",
    "mangoLen = len(fruit)\n",
    "print(mangoLen)\n",
    "print(fruit[0:4])\n",
    "print(fruit[1:4])\n",
    "print(fruit[:5])\n",
    "print(fruit[0:-3])\n",
    "print(fruit[-3:-1])"
   ]
  },
  {
   "cell_type": "code",
   "execution_count": 14,
   "metadata": {},
   "outputs": [
    {
     "name": "stdout",
     "output_type": "stream",
     "text": [
      "ak\n"
     ]
    }
   ],
   "source": [
    "nm = \"Sakib\"\n",
    "print(nm[-4:-2])"
   ]
  },
  {
   "cell_type": "code",
   "execution_count": null,
   "metadata": {},
   "outputs": [],
   "source": []
  }
 ],
 "metadata": {
  "kernelspec": {
   "display_name": "base",
   "language": "python",
   "name": "python3"
  },
  "language_info": {
   "codemirror_mode": {
    "name": "ipython",
    "version": 3
   },
   "file_extension": ".py",
   "mimetype": "text/x-python",
   "name": "python",
   "nbconvert_exporter": "python",
   "pygments_lexer": "ipython3",
   "version": "3.11.5"
  }
 },
 "nbformat": 4,
 "nbformat_minor": 2
}
