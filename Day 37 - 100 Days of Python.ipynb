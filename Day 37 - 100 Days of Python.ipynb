{
 "cells": [
  {
   "cell_type": "code",
   "execution_count": 1,
   "metadata": {},
   "outputs": [],
   "source": [
    "#Finally Keyword in Python\n"
   ]
  },
  {
   "cell_type": "code",
   "execution_count": 3,
   "metadata": {},
   "outputs": [
    {
     "name": "stdout",
     "output_type": "stream",
     "text": [
      "Some error occurred\n",
      "I am always executed\n"
     ]
    }
   ],
   "source": [
    "try:\n",
    "    l = [1,5,6,7]\n",
    "    i = int(input(\"Enter the index: \"))\n",
    "    print[i]\n",
    "except:\n",
    "    print(\"Some error occurred\")\n",
    "\n",
    "finally:\n",
    "    print(\"I am always executed\")"
   ]
  },
  {
   "cell_type": "code",
   "execution_count": null,
   "metadata": {},
   "outputs": [],
   "source": [
    "\n",
    "try:\n",
    "    l = [1,5,6,7]\n",
    "    i = int(input(\"Enter the index: \"))\n",
    "    print[i]\n",
    "except:\n",
    "    print(\"Some error occurred\")\n",
    "\n",
    "finally:হহহ\n",
    "    print(\"I am always executed\")"
   ]
  }
 ],
 "metadata": {
  "kernelspec": {
   "display_name": "Python 3",
   "language": "python",
   "name": "python3"
  },
  "language_info": {
   "codemirror_mode": {
    "name": "ipython",
    "version": 3
   },
   "file_extension": ".py",
   "mimetype": "text/x-python",
   "name": "python",
   "nbconvert_exporter": "python",
   "pygments_lexer": "ipython3",
   "version": "3.11.8"
  }
 },
 "nbformat": 4,
 "nbformat_minor": 2
}
