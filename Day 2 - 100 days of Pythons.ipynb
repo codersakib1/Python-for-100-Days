{
 "cells": [
  {
   "cell_type": "code",
   "execution_count": 2,
   "id": "ae3f02e3",
   "metadata": {},
   "outputs": [
    {
     "ename": "SyntaxError",
     "evalue": "invalid syntax (3763938370.py, line 1)",
     "output_type": "error",
     "traceback": [
      "\u001b[1;36m  Cell \u001b[1;32mIn[2], line 1\u001b[1;36m\u001b[0m\n\u001b[1;33m    elif 'email to harry' in query:\u001b[0m\n\u001b[1;37m    ^\u001b[0m\n\u001b[1;31mSyntaxError\u001b[0m\u001b[1;31m:\u001b[0m invalid syntax\n"
     ]
    }
   ],
   "source": [
    "elif 'email to harry' in query:\n",
    "    try:\n",
    "        speak(\"What should I say?\")\n",
    "        content = takeCommand()\n",
    "        to = \"harryyourEmail@gmail.com\"\n",
    "        spendEmail(to, content)\n",
    "        speak(\"Email  has been sent!\")\n",
    "        except Exception as e:\n",
    "            print(e)\n",
    "            speak(\"Sorry my friend harry bhai. I am not able to send this email\")\n",
    "            \n",
    "    else:\n",
    "        print(\"No query matched\")"
   ]
  },
  {
   "cell_type": "code",
   "execution_count": null,
   "id": "54f2a093",
   "metadata": {},
   "outputs": [],
   "source": []
  }
 ],
 "metadata": {
  "kernelspec": {
   "display_name": "Python 3 (ipykernel)",
   "language": "python",
   "name": "python3"
  },
  "language_info": {
   "codemirror_mode": {
    "name": "ipython",
    "version": 3
   },
   "file_extension": ".py",
   "mimetype": "text/x-python",
   "name": "python",
   "nbconvert_exporter": "python",
   "pygments_lexer": "ipython3",
   "version": "3.11.5"
  }
 },
 "nbformat": 4,
 "nbformat_minor": 5
}
