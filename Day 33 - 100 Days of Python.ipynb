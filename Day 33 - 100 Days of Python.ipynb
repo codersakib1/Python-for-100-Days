{
 "cells": [
  {
   "cell_type": "code",
   "execution_count": 1,
   "metadata": {},
   "outputs": [],
   "source": [
    "#Dictionaries in Python"
   ]
  },
  {
   "cell_type": "code",
   "execution_count": 3,
   "metadata": {},
   "outputs": [
    {
     "name": "stdout",
     "output_type": "stream",
     "text": [
      "Human being\n"
     ]
    }
   ],
   "source": [
    "dic = {\n",
    "    \"Sakib\": \"Human being\",\n",
    "    \"Spoon\": \"Object\"\n",
    "}\n",
    "print(dic[\"Sakib\"])"
   ]
  },
  {
   "cell_type": "code",
   "execution_count": 8,
   "metadata": {},
   "outputs": [
    {
     "name": "stdout",
     "output_type": "stream",
     "text": [
      "Neha\n"
     ]
    }
   ],
   "source": [
    "dic = {\n",
    "    344: \"Sakib\",\n",
    "    56: \"Shubham\",\n",
    "    678: \"Zakir\",\n",
    "    567: \"Neha\"\n",
    "}\n",
    "print(dic[567])"
   ]
  },
  {
   "cell_type": "code",
   "execution_count": 9,
   "metadata": {},
   "outputs": [
    {
     "name": "stdout",
     "output_type": "stream",
     "text": [
      "{'name': 'Karan', 'age': 19, 'eligible': True}\n",
      "Karan\n",
      "True\n"
     ]
    }
   ],
   "source": [
    "info = { 'name': 'Karan', 'age':19, 'eligible':True}\n",
    "print(info)\n",
    "print(info['name'])\n",
    "print(info.get('eligible'))"
   ]
  },
  {
   "cell_type": "code",
   "execution_count": 10,
   "metadata": {},
   "outputs": [
    {
     "name": "stdout",
     "output_type": "stream",
     "text": [
      "{'name': 'Karan', 'age': 19, 'eligible': True}\n",
      "dict_keys(['name', 'age', 'eligible'])\n",
      "Karan\n",
      "19\n",
      "True\n"
     ]
    }
   ],
   "source": [
    "info = { 'name': 'Karan', 'age':19, 'eligible':True}\n",
    "print(info)\n",
    "print(info.keys())\n",
    "\n",
    "for key in info.keys():\n",
    "    print(info[key])"
   ]
  },
  {
   "cell_type": "code",
   "execution_count": 12,
   "metadata": {},
   "outputs": [
    {
     "name": "stdout",
     "output_type": "stream",
     "text": [
      "{'name': 'Karan', 'age': 19, 'eligible': True}\n",
      "dict_keys(['name', 'age', 'eligible'])\n",
      "The value corresponding to the key name is Karan\n",
      "The value corresponding to the key age is 19\n",
      "The value corresponding to the key eligible is True\n"
     ]
    }
   ],
   "source": [
    "info = { 'name': 'Karan', 'age':19, 'eligible':True}\n",
    "print(info)\n",
    "print(info.keys())\n",
    "\n",
    "for key in info.keys():\n",
    "    print(f\"The value corresponding to the key {key} is {info[key]}\")"
   ]
  },
  {
   "cell_type": "code",
   "execution_count": 13,
   "metadata": {},
   "outputs": [
    {
     "name": "stdout",
     "output_type": "stream",
     "text": [
      "dict_items([('name', 'Karan'), ('age', 19), ('eligible', True)])\n",
      "The value corresponding to the key name is Karan\n",
      "The value corresponding to the key age is 19\n",
      "The value corresponding to the key eligible is True\n"
     ]
    }
   ],
   "source": [
    "print(info.items())\n",
    "for key, value in info.items():\n",
    "    print(f\"The value corresponding to the key {key} is {value}\")"
   ]
  },
  {
   "cell_type": "code",
   "execution_count": null,
   "metadata": {},
   "outputs": [],
   "source": []
  }
 ],
 "metadata": {
  "kernelspec": {
   "display_name": "Python 3",
   "language": "python",
   "name": "python3"
  },
  "language_info": {
   "codemirror_mode": {
    "name": "ipython",
    "version": 3
   },
   "file_extension": ".py",
   "mimetype": "text/x-python",
   "name": "python",
   "nbconvert_exporter": "python",
   "pygments_lexer": "ipython3",
   "version": "3.11.8"
  }
 },
 "nbformat": 4,
 "nbformat_minor": 2
}
