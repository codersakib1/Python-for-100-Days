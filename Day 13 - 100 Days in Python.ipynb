{
 "cells": [
  {
   "cell_type": "code",
   "execution_count": 1,
   "metadata": {},
   "outputs": [],
   "source": [
    "#String Methods in Python "
   ]
  },
  {
   "cell_type": "code",
   "execution_count": 23,
   "metadata": {},
   "outputs": [
    {
     "name": "stdout",
     "output_type": "stream",
     "text": [
      "24\n",
      "!!!Sakib!! !!!!!!! Sakib\n",
      "!!!SAKIB!! !!!!!!! SAKIB\n",
      "!!!sakib!! !!!!!!! sakib\n",
      "!!!Sakib!! !!!!!!! Sakib\n",
      "!!!Alif!! !!!!!!! Alif\n",
      "['!!!Sakib!! !!!!!!! Sakib']\n",
      "Introduction to js\n",
      "25\n",
      "50\n",
      "2\n",
      "True\n",
      "True\n",
      "10\n",
      "13\n",
      "True\n",
      "True\n",
      "True\n",
      "True\n",
      "True\n",
      "True\n",
      "True\n",
      "True\n",
      "True\n",
      "pYTHON IS A iNTERPRETED lANGUAGE\n",
      "He'S Name Is Dan. Dan Is An Honest Man.\n"
     ]
    }
   ],
   "source": [
    "a = \"!!!Sakib!! !!!!!!! Sakib\"\n",
    "print(len(a))\n",
    "print(a)\n",
    "print(a.upper())\n",
    "print(a.lower())\n",
    "print(a.rstrip(\"!\"))\n",
    "print(a.replace(\"Sakib\", \"Alif\"))\n",
    "print(a.split(\"  \"))\n",
    "blogHeading = \"introduction to js\"\n",
    "print(blogHeading.capitalize())\n",
    "\n",
    "str1  = \"Welcome to the Console!!!\"\n",
    "print(len(str1))\n",
    "print(len(str1.center(50)))\n",
    "print(a.count(\"Sakib\"))\n",
    "print(str1.endswith(\"!!!\"))\n",
    "print(str1.endswith(\"to\", 4, 10))\n",
    "\n",
    "str1 = \"He's name is Dan. He is an honest man.\"\n",
    "print(str1.find(\"is\"))\n",
    "\n",
    "str1 = \"He's name is Dan. Dan is an honest man.\"\n",
    "print(str1.index(\"Dan\"))\n",
    "\n",
    "str1 = \"WelcomeToTheConsole\"\n",
    "print(str1.isalnum())\n",
    "\n",
    "str1 = \"Welcome\"\n",
    "print(str1.isalpha())\n",
    "\n",
    "str1 = \"hello world\"\n",
    "print(str1.islower())\n",
    "\n",
    "str1 = \"We wish you a Merry Christmas\"\n",
    "print(str1.isprintable())\n",
    "\n",
    "str1 = \"        \"       #using Spacebar\n",
    "print(str1.isspace())\n",
    "str2 = \"        \"       #using Tab\n",
    "print(str2.isspace())\n",
    "\n",
    "str1 = \"World Health Organization\" \n",
    "print(str1.istitle())\n",
    "\n",
    "str1 = \"WORLD HEALTH ORGANIZATION\" \n",
    "print(str1.isupper())\n",
    "\n",
    "str1 = \"Python is a Interpreted Language\" \n",
    "print(str1.startswith(\"Python\"))\n",
    "\n",
    "str1 = \"Python is a Interpreted Language\" \n",
    "print(str1.swapcase())\n",
    "\n",
    "str1 = \"He's name is Dan. Dan is an honest man.\"\n",
    "print(str1.title())"
   ]
  }
 ],
 "metadata": {
  "kernelspec": {
   "display_name": "base",
   "language": "python",
   "name": "python3"
  },
  "language_info": {
   "codemirror_mode": {
    "name": "ipython",
    "version": 3
   },
   "file_extension": ".py",
   "mimetype": "text/x-python",
   "name": "python",
   "nbconvert_exporter": "python",
   "pygments_lexer": "ipython3",
   "version": "3.11.5"
  }
 },
 "nbformat": 4,
 "nbformat_minor": 2
}
