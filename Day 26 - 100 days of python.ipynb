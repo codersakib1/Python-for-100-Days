{
 "cells": [
  {
   "cell_type": "code",
   "execution_count": 1,
   "metadata": {},
   "outputs": [],
   "source": [
    "#Exercise 2: Solution and Shoutouts"
   ]
  },
  {
   "cell_type": "code",
   "execution_count": 2,
   "metadata": {},
   "outputs": [
    {
     "name": "stdout",
     "output_type": "stream",
     "text": [
      "16:31:08\n",
      "16\n",
      "31\n",
      "08\n"
     ]
    }
   ],
   "source": [
    "import time\n",
    "timestamp = time.strftime('%H:%M:%S')\n",
    "print(timestamp)\n",
    "timestamp =time.strftime('%H')\n",
    "print(timestamp)\n",
    "timestamp =time.strftime('%M')\n",
    "print(timestamp)\n",
    "timestamp =time.strftime('%S')\n",
    "print(timestamp)"
   ]
  },
  {
   "cell_type": "code",
   "execution_count": 19,
   "metadata": {},
   "outputs": [
    {
     "name": "stdout",
     "output_type": "stream",
     "text": [
      "16\n",
      "Good Afternoon Sir!\n"
     ]
    }
   ],
   "source": [
    "import time\n",
    "t = time.strftime('%H:%M:%S')\n",
    "hour = int(time.strftime('%H'))\n",
    "print(hour)\n",
    "\n",
    "if (hour>=0 and hour<=12):\n",
    "    print(\"Good Morning Sir!\")\n",
    "elif(hour>=12 and hour<=17):    \n",
    "    print('Good Afternoon Sir!')\n",
    "if (hour>=17 and hour<0):\n",
    "    print('Good Night Sir!')\n",
    "\n",
    "\n"
   ]
  },
  {
   "cell_type": "code",
   "execution_count": 21,
   "metadata": {},
   "outputs": [
    {
     "name": "stdout",
     "output_type": "stream",
     "text": [
      "16\n",
      "Good Afternoon Sir!\n"
     ]
    }
   ],
   "source": [
    "import time\n",
    "t = time.strftime('%H:%M:%S')\n",
    "hour = int(time.strftime('%H'))\n",
    "hour = int(input(\"Enter hour: \"))\n",
    "print(hour)\n",
    "\n",
    "if (hour>=0 and hour<=12):\n",
    "    print(\"Good Morning Sir!\")\n",
    "elif(hour>=12 and hour<=17):    \n",
    "    print('Good Afternoon Sir!')\n",
    "elif (hour>=17 and hour<0):\n",
    "    print('Good Night Sir!')\n"
   ]
  }
 ],
 "metadata": {
  "kernelspec": {
   "display_name": "Python 3",
   "language": "python",
   "name": "python3"
  },
  "language_info": {
   "codemirror_mode": {
    "name": "ipython",
    "version": 3
   },
   "file_extension": ".py",
   "mimetype": "text/x-python",
   "name": "python",
   "nbconvert_exporter": "python",
   "pygments_lexer": "ipython3",
   "version": "3.11.7"
  }
 },
 "nbformat": 4,
 "nbformat_minor": 2
}
